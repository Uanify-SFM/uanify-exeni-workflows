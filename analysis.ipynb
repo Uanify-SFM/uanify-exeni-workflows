{
 "cells": [
  {
   "cell_type": "code",
   "execution_count": 7,
   "metadata": {},
   "outputs": [],
   "source": [
    "import os\n",
    "import pydicom\n",
    "from PIL import Image\n",
    "import pytesseract"
   ]
  },
  {
   "cell_type": "code",
   "execution_count": 9,
   "metadata": {},
   "outputs": [],
   "source": [
    "def convert_dicom_to_images(dicom_folder, output_folder):\n",
    "    if not os.path.exists(output_folder):\n",
    "        os.makedirs(output_folder)\n",
    "    for file in os.listdir(dicom_folder):\n",
    "        full_path = os.path.join(dicom_folder, file)\n",
    "        try:\n",
    "            dicom = pydicom.dcmread(full_path)\n",
    "            image = Image.fromarray(dicom.pixel_array)\n",
    "            image_name = os.path.splitext(file)[0] + '.png'\n",
    "            image.save(os.path.join(output_folder, image_name))\n",
    "            print(f\"File {file} converted to image.\")\n",
    "        except Exception as e:\n",
    "            print(f\"Could not process file {file}: {e}\")"
   ]
  },
  {
   "cell_type": "code",
   "execution_count": 13,
   "metadata": {},
   "outputs": [],
   "source": [
    "def extract_dicom_metadata(dicom_file_path):\n",
    "    # Read the DICOM file\n",
    "    dicom = pydicom.dcmread(dicom_file_path)\n",
    "\n",
    "    # Create a dictionary to store the metadata of interest\n",
    "    metadata = {\n",
    "        'PatientID': dicom.PatientID,\n",
    "        'PatientName': dicom.PatientName,\n",
    "        'InstitutionName': dicom.InstitutionName,\n",
    "        'studyID': dicom.StudyID,\n",
    "        \n",
    "    }\n",
    "\n",
    "    # Return the metadata dictionary\n",
    "    return metadata"
   ]
  },
  {
   "cell_type": "code",
   "execution_count": 14,
   "metadata": {},
   "outputs": [
    {
     "name": "stdout",
     "output_type": "stream",
     "text": [
      "File IMG_20240402_1_1.dcm converted to image.\n",
      "File IMG_20240402_1_2.dcm converted to image.\n",
      "File IMG_20240402_1_3.dcm converted to image.\n",
      "File IMG_20240402_1_4.dcm converted to image.\n",
      "File IMG_20240402_1_5.dcm converted to image.\n"
     ]
    }
   ],
   "source": [
    "\n",
    "dicom_folder = ''\n",
    "output_folder = ''\n",
    "\n",
    "convert_dicom_to_images(dicom_folder, output_folder)\n"
   ]
  },
  {
   "cell_type": "code",
   "execution_count": 15,
   "metadata": {},
   "outputs": [
    {
     "name": "stdout",
     "output_type": "stream",
     "text": [
      "{'PatientID': 'VSX805508-24-04-01-3', 'PatientName': 'prueba^hack', 'InstitutionName': 'CEC GDL AMERICAS', 'studyID': '1'}\n"
     ]
    }
   ],
   "source": [
    "dicom_file_path = 'main_server_path/IMG_20240402_1_1.dcm'\n",
    "metadata = extract_dicom_metadata(dicom_file_path)\n",
    "print(metadata);"
   ]
  },
  {
   "cell_type": "code",
   "execution_count": null,
   "metadata": {},
   "outputs": [],
   "source": [
    "/"
   ]
  }
 ],
 "metadata": {
  "kernelspec": {
   "display_name": "Python 3",
   "language": "python",
   "name": "python3"
  },
  "language_info": {
   "codemirror_mode": {
    "name": "ipython",
    "version": 3
   },
   "file_extension": ".py",
   "mimetype": "text/x-python",
   "name": "python",
   "nbconvert_exporter": "python",
   "pygments_lexer": "ipython3",
   "version": "3.11.4"
  }
 },
 "nbformat": 4,
 "nbformat_minor": 2
}
