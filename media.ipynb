{
 "cells": [
  {
   "cell_type": "code",
   "execution_count": 1,
   "metadata": {},
   "outputs": [],
   "source": [
    "#convert image to video\n",
    "import cv2\n",
    "import os\n",
    "import sys\n",
    "from moviepy.editor import VideoFileClip\n",
    "\n",
    "\n",
    "# create function to convert folder to images to video\n",
    "def convert_frames_to_video(pathIn, pathOut, fps):\n",
    "    frame_array = []\n",
    "    files = [f for f in os.listdir(pathIn) if os.path.isfile(os.path.join(pathIn, f))]\n",
    "    \n",
    "    files.sort(key = lambda x: int(x[5:-4]))\n",
    "    for i in range(len(files)):\n",
    "        filename = pathIn + files[i]\n",
    "\n",
    "        img = cv2.imread(filename)\n",
    "        height, width, layers = img.shape\n",
    "        size = (width,height)\n",
    "\n",
    "        frame_array.append(img)\n",
    "    out = cv2.VideoWriter(pathOut,cv2.VideoWriter_fourcc(*'DIVX'), fps, size)\n",
    "    for i in range(len(frame_array)):\n",
    "        \n",
    "        out.write(frame_array[i])\n",
    "    out.release()\n",
    "\n"
   ]
  },
  {
   "cell_type": "code",
   "execution_count": 2,
   "metadata": {},
   "outputs": [],
   "source": [
    "pathIn= ''\n",
    "pathOut = ''\n",
    "\n",
    "convert_frames_to_video(pathIn, pathOut, 1)"
   ]
  },
  {
   "cell_type": "code",
   "execution_count": null,
   "metadata": {},
   "outputs": [],
   "source": [
    "\n",
    "def convert_video_to_gif(video_path, gif_path):\n",
    "    clip = VideoFileClip(video_path)\n",
    "    clip.write_gif(gif_path)\n",
    "\n",
    "\n",
    "video_path = \"C:/Users/efrai/OneDrive/Escritorio/Unify_olp/User/video.avi\"\n",
    "gif_path = \"C:/Users/efrai/OneDrive/Escritorio/Unify_olp/User/video.gif\"\n",
    "\n",
    "convert_video_to_gif(video_path, gif_path)\n"
   ]
  }
 ],
 "metadata": {
  "kernelspec": {
   "display_name": "Python 3",
   "language": "python",
   "name": "python3"
  },
  "language_info": {
   "codemirror_mode": {
    "name": "ipython",
    "version": 3
   },
   "file_extension": ".py",
   "mimetype": "text/x-python",
   "name": "python",
   "nbconvert_exporter": "python",
   "pygments_lexer": "ipython3",
   "version": "3.11.4"
  }
 },
 "nbformat": 4,
 "nbformat_minor": 2
}
